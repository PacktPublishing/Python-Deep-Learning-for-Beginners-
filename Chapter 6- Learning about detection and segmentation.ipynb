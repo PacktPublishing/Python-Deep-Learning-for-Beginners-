{
 "cells": [
  {
   "cell_type": "markdown",
   "metadata": {},
   "source": [
    "Fully Convolutional Neural Networks"
   ]
  },
  {
   "cell_type": "code",
   "execution_count": null,
   "metadata": {},
   "outputs": [],
   "source": [
    "fcnn = models.Sequential()"
   ]
  },
  {
   "cell_type": "markdown",
   "metadata": {},
   "source": [
    "Downsampling layer"
   ]
  },
  {
   "cell_type": "code",
   "execution_count": null,
   "metadata": {},
   "outputs": [],
   "source": [
    "fcnn.add(Convolution2D(64, (3, 3), padding='same'))\n",
    "fcnn.add(BatchNormalization())\n",
    "fcnn.add(Activation('relu'))\n",
    "fcnn.add(MaxPooling2D(pool_size=(2, 2)))\n",
    "\n",
    "fcnn.add(Convolution2D(128, (3, 3), padding='same'))\n",
    "fcnn.add(BatchNormalization())\n",
    "fcnn.add(Activation('relu'))\n",
    "fcnn.add(MaxPooling2D(pool_size=(2, 2)))\n",
    "\n",
    "fcnn.add(Convolution2D(256, (3, 3), padding='same'))\n",
    "fcnn.add(BatchNormalization())\n",
    "fcnn.add(Activation('relu'))\n",
    "fcnn.add(MaxPooling2D(pool_size=(2, 2)))"
   ]
  },
  {
   "cell_type": "markdown",
   "metadata": {},
   "source": [
    "Upsampling layer"
   ]
  },
  {
   "cell_type": "code",
   "execution_count": null,
   "metadata": {},
   "outputs": [],
   "source": [
    "fcnn.add(Convolution2D(256, (3, 3), padding='same'))\n",
    "fcnn.add(BatchNormalization())\n",
    "\n",
    "fcnn.add(UpSampling2D(size=(2, 2)))\n",
    "fcnn.add(Convolution2D(128, (3, 3), padding='same'))\n",
    "fcnn.add(BatchNormalization())\n",
    "\n",
    "fcnn.add(UpSampling2D(size=(2, 2)))\n",
    "fcnn.add(Convolution2D(64, (3, 3), padding='same'))\n",
    "fcnn.add(BatchNormalization())"
   ]
  },
  {
   "cell_type": "code",
   "execution_count": null,
   "metadata": {},
   "outputs": [],
   "source": [
    "fcnn.add(Activation('softmax'))"
   ]
  }
 ],
 "metadata": {
  "kernelspec": {
   "display_name": "Python 3",
   "language": "python",
   "name": "python3"
  },
  "language_info": {
   "codemirror_mode": {
    "name": "ipython",
    "version": 3
   },
   "file_extension": ".py",
   "mimetype": "text/x-python",
   "name": "python",
   "nbconvert_exporter": "python",
   "pygments_lexer": "ipython3",
   "version": "3.6.2"
  }
 },
 "nbformat": 4,
 "nbformat_minor": 2
}
