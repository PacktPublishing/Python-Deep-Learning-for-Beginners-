{
 "cells": [
  {
   "cell_type": "code",
   "execution_count": 1,
   "metadata": {},
   "outputs": [
    {
     "name": "stderr",
     "output_type": "stream",
     "text": [
      "Using TensorFlow backend.\n"
     ]
    }
   ],
   "source": [
    "import keras"
   ]
  },
  {
   "cell_type": "markdown",
   "metadata": {},
   "source": [
    "Implementing a CNN"
   ]
  },
  {
   "cell_type": "code",
   "execution_count": 3,
   "metadata": {},
   "outputs": [],
   "source": [
    "from keras.datasets import mnist\n",
    "from keras.models import Sequential\n",
    "from keras.layers import Dense, Flatten\n",
    "from keras.layers import Conv2D\n",
    "\n",
    "model = Sequential()\n",
    "\n",
    "model.add(\n",
    "    Conv2D(  # 2D convolution layer (e.g. spatial convolution over images).\n",
    "        32,  # number of filters, i.e. how many output this layer produces\n",
    "        kernel_size=(3, 3),  # size of sliding window\n",
    "        activation='relu',\n",
    "        input_shape=(128, 128, 1),  # channels_last, greyscale image\n",
    "        padding='same'\n",
    "    )\n",
    ")\n",
    "# now: model.output_shape == (None, 32, 128, 128)\n",
    "\n",
    "model.add(\n",
    "    Conv2D(\n",
    "        64, \n",
    "        (3, 3), \n",
    "        activation='relu',\n",
    "        padding='same',\n",
    "    )\n",
    ")\n",
    "# now: model.output_shape == (None, 64, 128, 128)\n",
    "\n",
    "\n",
    "# Flattens the input. Does not affect the batch size.\n",
    "# after this, model.output_shape == (None, 1048576)\n",
    "# 64 * 128 * 128 = 1048576\n",
    "model.add(Flatten())\n",
    "\n",
    "model.add(Dense(10, activation='softmax'))\n",
    "# after this, model.output_shape == (None, 10)\n",
    "\n",
    "model.compile(loss='categorical_crossentropy',\n",
    "              optimizer='sgd')"
   ]
  },
  {
   "cell_type": "code",
   "execution_count": null,
   "metadata": {},
   "outputs": [],
   "source": [
    "model.fit(x_train, y_train,\n",
    "          epochs=100,\n",
    "          validation_data=(x_test, y_test))\n",
    "\n",
    "score = model.evaluate(x_test, y_test)"
   ]
  },
  {
   "cell_type": "markdown",
   "metadata": {},
   "source": [
    "Max Pooling"
   ]
  },
  {
   "cell_type": "code",
   "execution_count": null,
   "metadata": {},
   "outputs": [],
   "source": [
    "model = Sequential()\n",
    "\n",
    "model.add(\n",
    "    Conv2D(  # 2D convolution layer (e.g. spatial convolution over images).\n",
    "        32,  # number of filters, i.e. how many output this layer produces\n",
    "        kernel_size=(3, 3),  # size of sliding window\n",
    "        activation='relu',\n",
    "        input_shape=(128, 128, 1),  # channels_last, greyscale image\n",
    "        padding='same'\n",
    "    )\n",
    ")\n",
    "\n",
    "# pool_size: integer or tuple of 2 integers, factors by which to downscale \n",
    "# (vertical, horizontal). (2, 2) will halve the input in both spatial dimension. \n",
    "# If only one integer is specified, the same window length will be used for both dimensions.\n",
    "\n",
    "model.add(\n",
    "    MaxPooling2D(\n",
    "        pool_size=(2, 2)  # for every 2x2 square, take the maximum\n",
    "    )\n",
    ")\n",
    "\n",
    "model.add(Flatten())\n",
    "\n",
    "model.add(Dense(128, activation='relu'))\n",
    "\n",
    "model.add(Dense(10, activation='softmax'))\n",
    "\n",
    "# after this, model.output_shape == (None, 10)\n",
    "\n",
    "model.compile(loss='categorical_crossentropy',\n",
    "              optimizer='sgd')"
   ]
  }
 ],
 "metadata": {
  "kernelspec": {
   "display_name": "Python 3",
   "language": "python",
   "name": "python3"
  },
  "language_info": {
   "codemirror_mode": {
    "name": "ipython",
    "version": 3
   },
   "file_extension": ".py",
   "mimetype": "text/x-python",
   "name": "python",
   "nbconvert_exporter": "python",
   "pygments_lexer": "ipython3",
   "version": "3.6.2"
  }
 },
 "nbformat": 4,
 "nbformat_minor": 2
}
